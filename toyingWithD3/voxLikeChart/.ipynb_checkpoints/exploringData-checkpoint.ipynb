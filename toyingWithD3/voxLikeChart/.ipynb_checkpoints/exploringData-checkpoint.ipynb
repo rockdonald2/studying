{
 "cells": [
  {
   "cell_type": "markdown",
   "metadata": {},
   "source": [
    "# Used dependencies"
   ]
  },
  {
   "cell_type": "code",
   "execution_count": 1,
   "metadata": {},
   "outputs": [],
   "source": [
    "import dtale as dt\n",
    "import pandas as pd\n",
    "import numpy as np\n",
    "import matplotlib as mpl\n",
    "import matplotlib.pyplot as plt"
   ]
  },
  {
   "cell_type": "markdown",
   "metadata": {},
   "source": [
    "# Reading in data"
   ]
  },
  {
   "cell_type": "code",
   "execution_count": 2,
   "metadata": {},
   "outputs": [],
   "source": [
    "dataset = pd.read_csv('data.csv')"
   ]
  },
  {
   "cell_type": "markdown",
   "metadata": {},
   "source": [
    "# Inspecting data"
   ]
  },
  {
   "cell_type": "code",
   "execution_count": 33,
   "metadata": {},
   "outputs": [
    {
     "data": {
      "text/html": [
       "<div>\n",
       "<style scoped>\n",
       "    .dataframe tbody tr th:only-of-type {\n",
       "        vertical-align: middle;\n",
       "    }\n",
       "\n",
       "    .dataframe tbody tr th {\n",
       "        vertical-align: top;\n",
       "    }\n",
       "\n",
       "    .dataframe thead th {\n",
       "        text-align: right;\n",
       "    }\n",
       "</style>\n",
       "<table border=\"1\" class=\"dataframe\">\n",
       "  <thead>\n",
       "    <tr style=\"text-align: right;\">\n",
       "      <th></th>\n",
       "      <th>TIME</th>\n",
       "      <th>MATURITY</th>\n",
       "      <th>YLD_CURV</th>\n",
       "      <th>GEO</th>\n",
       "      <th>BONDS</th>\n",
       "      <th>Value</th>\n",
       "    </tr>\n",
       "  </thead>\n",
       "  <tbody>\n",
       "    <tr>\n",
       "      <th>0</th>\n",
       "      <td>2004-09-01</td>\n",
       "      <td>2</td>\n",
       "      <td>Spot rate yield curve</td>\n",
       "      <td>Euro area (EA11-1999, EA12-2001, EA13-2007, EA...</td>\n",
       "      <td>AAA-rated euro area central government bonds</td>\n",
       "      <td>2.61</td>\n",
       "    </tr>\n",
       "    <tr>\n",
       "      <th>1</th>\n",
       "      <td>2004-09-01</td>\n",
       "      <td>3</td>\n",
       "      <td>Spot rate yield curve</td>\n",
       "      <td>Euro area (EA11-1999, EA12-2001, EA13-2007, EA...</td>\n",
       "      <td>AAA-rated euro area central government bonds</td>\n",
       "      <td>2.90</td>\n",
       "    </tr>\n",
       "    <tr>\n",
       "      <th>2</th>\n",
       "      <td>2004-09-01</td>\n",
       "      <td>4</td>\n",
       "      <td>Spot rate yield curve</td>\n",
       "      <td>Euro area (EA11-1999, EA12-2001, EA13-2007, EA...</td>\n",
       "      <td>AAA-rated euro area central government bonds</td>\n",
       "      <td>3.15</td>\n",
       "    </tr>\n",
       "    <tr>\n",
       "      <th>3</th>\n",
       "      <td>2004-09-01</td>\n",
       "      <td>5</td>\n",
       "      <td>Spot rate yield curve</td>\n",
       "      <td>Euro area (EA11-1999, EA12-2001, EA13-2007, EA...</td>\n",
       "      <td>AAA-rated euro area central government bonds</td>\n",
       "      <td>3.37</td>\n",
       "    </tr>\n",
       "    <tr>\n",
       "      <th>4</th>\n",
       "      <td>2004-09-01</td>\n",
       "      <td>6</td>\n",
       "      <td>Spot rate yield curve</td>\n",
       "      <td>Euro area (EA11-1999, EA12-2001, EA13-2007, EA...</td>\n",
       "      <td>AAA-rated euro area central government bonds</td>\n",
       "      <td>3.56</td>\n",
       "    </tr>\n",
       "    <tr>\n",
       "      <th>...</th>\n",
       "      <td>...</td>\n",
       "      <td>...</td>\n",
       "      <td>...</td>\n",
       "      <td>...</td>\n",
       "      <td>...</td>\n",
       "      <td>...</td>\n",
       "    </tr>\n",
       "    <tr>\n",
       "      <th>1714</th>\n",
       "      <td>2020-07-01</td>\n",
       "      <td>6</td>\n",
       "      <td>Spot rate yield curve</td>\n",
       "      <td>Euro area (EA11-1999, EA12-2001, EA13-2007, EA...</td>\n",
       "      <td>AAA-rated euro area central government bonds</td>\n",
       "      <td>-0.63</td>\n",
       "    </tr>\n",
       "    <tr>\n",
       "      <th>1715</th>\n",
       "      <td>2020-07-01</td>\n",
       "      <td>7</td>\n",
       "      <td>Spot rate yield curve</td>\n",
       "      <td>Euro area (EA11-1999, EA12-2001, EA13-2007, EA...</td>\n",
       "      <td>AAA-rated euro area central government bonds</td>\n",
       "      <td>-0.58</td>\n",
       "    </tr>\n",
       "    <tr>\n",
       "      <th>1716</th>\n",
       "      <td>2020-07-01</td>\n",
       "      <td>8</td>\n",
       "      <td>Spot rate yield curve</td>\n",
       "      <td>Euro area (EA11-1999, EA12-2001, EA13-2007, EA...</td>\n",
       "      <td>AAA-rated euro area central government bonds</td>\n",
       "      <td>-0.53</td>\n",
       "    </tr>\n",
       "    <tr>\n",
       "      <th>1717</th>\n",
       "      <td>2020-07-01</td>\n",
       "      <td>9</td>\n",
       "      <td>Spot rate yield curve</td>\n",
       "      <td>Euro area (EA11-1999, EA12-2001, EA13-2007, EA...</td>\n",
       "      <td>AAA-rated euro area central government bonds</td>\n",
       "      <td>-0.48</td>\n",
       "    </tr>\n",
       "    <tr>\n",
       "      <th>1718</th>\n",
       "      <td>2020-07-01</td>\n",
       "      <td>10</td>\n",
       "      <td>Spot rate yield curve</td>\n",
       "      <td>Euro area (EA11-1999, EA12-2001, EA13-2007, EA...</td>\n",
       "      <td>AAA-rated euro area central government bonds</td>\n",
       "      <td>-0.43</td>\n",
       "    </tr>\n",
       "  </tbody>\n",
       "</table>\n",
       "<p>1719 rows × 6 columns</p>\n",
       "</div>"
      ],
      "text/plain": [
       "           TIME  MATURITY               YLD_CURV  \\\n",
       "0    2004-09-01         2  Spot rate yield curve   \n",
       "1    2004-09-01         3  Spot rate yield curve   \n",
       "2    2004-09-01         4  Spot rate yield curve   \n",
       "3    2004-09-01         5  Spot rate yield curve   \n",
       "4    2004-09-01         6  Spot rate yield curve   \n",
       "...         ...       ...                    ...   \n",
       "1714 2020-07-01         6  Spot rate yield curve   \n",
       "1715 2020-07-01         7  Spot rate yield curve   \n",
       "1716 2020-07-01         8  Spot rate yield curve   \n",
       "1717 2020-07-01         9  Spot rate yield curve   \n",
       "1718 2020-07-01        10  Spot rate yield curve   \n",
       "\n",
       "                                                    GEO  \\\n",
       "0     Euro area (EA11-1999, EA12-2001, EA13-2007, EA...   \n",
       "1     Euro area (EA11-1999, EA12-2001, EA13-2007, EA...   \n",
       "2     Euro area (EA11-1999, EA12-2001, EA13-2007, EA...   \n",
       "3     Euro area (EA11-1999, EA12-2001, EA13-2007, EA...   \n",
       "4     Euro area (EA11-1999, EA12-2001, EA13-2007, EA...   \n",
       "...                                                 ...   \n",
       "1714  Euro area (EA11-1999, EA12-2001, EA13-2007, EA...   \n",
       "1715  Euro area (EA11-1999, EA12-2001, EA13-2007, EA...   \n",
       "1716  Euro area (EA11-1999, EA12-2001, EA13-2007, EA...   \n",
       "1717  Euro area (EA11-1999, EA12-2001, EA13-2007, EA...   \n",
       "1718  Euro area (EA11-1999, EA12-2001, EA13-2007, EA...   \n",
       "\n",
       "                                             BONDS  Value  \n",
       "0     AAA-rated euro area central government bonds   2.61  \n",
       "1     AAA-rated euro area central government bonds   2.90  \n",
       "2     AAA-rated euro area central government bonds   3.15  \n",
       "3     AAA-rated euro area central government bonds   3.37  \n",
       "4     AAA-rated euro area central government bonds   3.56  \n",
       "...                                            ...    ...  \n",
       "1714  AAA-rated euro area central government bonds  -0.63  \n",
       "1715  AAA-rated euro area central government bonds  -0.58  \n",
       "1716  AAA-rated euro area central government bonds  -0.53  \n",
       "1717  AAA-rated euro area central government bonds  -0.48  \n",
       "1718  AAA-rated euro area central government bonds  -0.43  \n",
       "\n",
       "[1719 rows x 6 columns]"
      ]
     },
     "execution_count": 33,
     "metadata": {},
     "output_type": "execute_result"
    }
   ],
   "source": [
    "dataset"
   ]
  },
  {
   "cell_type": "markdown",
   "metadata": {},
   "source": [
    "# Using dtale to explore the data"
   ]
  },
  {
   "cell_type": "code",
   "execution_count": 26,
   "metadata": {},
   "outputs": [
    {
     "data": {
      "text/html": [
       "\n",
       "        <iframe\n",
       "            width=\"100%\"\n",
       "            height=\"475\"\n",
       "            src=\"http://Indestructible:40000/dtale/iframe/1\"\n",
       "            frameborder=\"0\"\n",
       "            allowfullscreen\n",
       "        ></iframe>\n",
       "        "
      ],
      "text/plain": [
       "<IPython.lib.display.IFrame at 0x1a00477bca0>"
      ]
     },
     "metadata": {},
     "output_type": "display_data"
    },
    {
     "data": {
      "text/plain": []
     },
     "execution_count": 26,
     "metadata": {},
     "output_type": "execute_result"
    },
    {
     "name": "stdout",
     "output_type": "stream",
     "text": [
      "Exception on /charts/_dash-update-component [POST]\n",
      "Traceback (most recent call last):\n",
      "  File \"D:\\GitHub\\misc\\Anaconda\\envs\\pyjsviz\\lib\\site-packages\\flask\\app.py\", line 2447, in wsgi_app\n",
      "    response = self.full_dispatch_request()\n",
      "  File \"D:\\GitHub\\misc\\Anaconda\\envs\\pyjsviz\\lib\\site-packages\\flask\\app.py\", line 1952, in full_dispatch_request\n",
      "    rv = self.handle_user_exception(e)\n",
      "  File \"D:\\GitHub\\misc\\Anaconda\\envs\\pyjsviz\\lib\\site-packages\\flask\\app.py\", line 1821, in handle_user_exception\n",
      "    reraise(exc_type, exc_value, tb)\n",
      "  File \"D:\\GitHub\\misc\\Anaconda\\envs\\pyjsviz\\lib\\site-packages\\flask\\_compat.py\", line 39, in reraise\n",
      "    raise value\n",
      "  File \"D:\\GitHub\\misc\\Anaconda\\envs\\pyjsviz\\lib\\site-packages\\flask\\app.py\", line 1950, in full_dispatch_request\n",
      "    rv = self.dispatch_request()\n",
      "  File \"D:\\GitHub\\misc\\Anaconda\\envs\\pyjsviz\\lib\\site-packages\\flask\\app.py\", line 1936, in dispatch_request\n",
      "    return self.view_functions[rule.endpoint](**req.view_args)\n",
      "  File \"D:\\GitHub\\misc\\Anaconda\\envs\\pyjsviz\\lib\\site-packages\\dash\\dash.py\", line 1050, in dispatch\n",
      "    response.set_data(func(*args, outputs_list=outputs_list))\n",
      "  File \"D:\\GitHub\\misc\\Anaconda\\envs\\pyjsviz\\lib\\site-packages\\dash\\dash.py\", line 985, in add_context\n",
      "    output_value = func(*args, **kwargs)  # %% callback invoked %%\n",
      "  File \"D:\\GitHub\\misc\\Anaconda\\envs\\pyjsviz\\lib\\site-packages\\dtale\\dash_application\\views.py\", line 695, in group_values\n",
      "    group_vals = build_group_val_options(group_vals, group_cols)\n",
      "  File \"D:\\GitHub\\misc\\Anaconda\\envs\\pyjsviz\\lib\\site-packages\\dtale\\dash_application\\layout\\layout.py\", line 635, in build_group_val_options\n",
      "    group_vals = find_group_vals(df, group_cols)\n",
      "  File \"D:\\GitHub\\misc\\Anaconda\\envs\\pyjsviz\\lib\\site-packages\\dtale\\charts\\utils.py\", line 640, in find_group_vals\n",
      "    group_vals, _ = retrieve_chart_data(df, group_cols)\n",
      "  File \"D:\\GitHub\\misc\\Anaconda\\envs\\pyjsviz\\lib\\site-packages\\dtale\\charts\\utils.py\", line 237, in retrieve_chart_data\n",
      "    all_data = pd.concat(all_data, axis=1)\n",
      "  File \"D:\\GitHub\\misc\\Anaconda\\envs\\pyjsviz\\lib\\site-packages\\pandas\\core\\reshape\\concat.py\", line 271, in concat\n",
      "    op = _Concatenator(\n",
      "  File \"D:\\GitHub\\misc\\Anaconda\\envs\\pyjsviz\\lib\\site-packages\\pandas\\core\\reshape\\concat.py\", line 329, in __init__\n",
      "    raise ValueError(\"No objects to concatenate\")\n",
      "ValueError: No objects to concatenate\n",
      "Exception on /charts/_dash-update-component [POST]\n",
      "Traceback (most recent call last):\n",
      "  File \"D:\\GitHub\\misc\\Anaconda\\envs\\pyjsviz\\lib\\site-packages\\flask\\app.py\", line 2447, in wsgi_app\n",
      "    response = self.full_dispatch_request()\n",
      "  File \"D:\\GitHub\\misc\\Anaconda\\envs\\pyjsviz\\lib\\site-packages\\flask\\app.py\", line 1952, in full_dispatch_request\n",
      "    rv = self.handle_user_exception(e)\n",
      "  File \"D:\\GitHub\\misc\\Anaconda\\envs\\pyjsviz\\lib\\site-packages\\flask\\app.py\", line 1821, in handle_user_exception\n",
      "    reraise(exc_type, exc_value, tb)\n",
      "  File \"D:\\GitHub\\misc\\Anaconda\\envs\\pyjsviz\\lib\\site-packages\\flask\\_compat.py\", line 39, in reraise\n",
      "    raise value\n",
      "  File \"D:\\GitHub\\misc\\Anaconda\\envs\\pyjsviz\\lib\\site-packages\\flask\\app.py\", line 1950, in full_dispatch_request\n",
      "    rv = self.dispatch_request()\n",
      "  File \"D:\\GitHub\\misc\\Anaconda\\envs\\pyjsviz\\lib\\site-packages\\flask\\app.py\", line 1936, in dispatch_request\n",
      "    return self.view_functions[rule.endpoint](**req.view_args)\n",
      "  File \"D:\\GitHub\\misc\\Anaconda\\envs\\pyjsviz\\lib\\site-packages\\dash\\dash.py\", line 1050, in dispatch\n",
      "    response.set_data(func(*args, outputs_list=outputs_list))\n",
      "  File \"D:\\GitHub\\misc\\Anaconda\\envs\\pyjsviz\\lib\\site-packages\\dash\\dash.py\", line 985, in add_context\n",
      "    output_value = func(*args, **kwargs)  # %% callback invoked %%\n",
      "  File \"D:\\GitHub\\misc\\Anaconda\\envs\\pyjsviz\\lib\\site-packages\\dtale\\dash_application\\views.py\", line 695, in group_values\n",
      "    group_vals = build_group_val_options(group_vals, group_cols)\n",
      "  File \"D:\\GitHub\\misc\\Anaconda\\envs\\pyjsviz\\lib\\site-packages\\dtale\\dash_application\\layout\\layout.py\", line 635, in build_group_val_options\n",
      "    group_vals = find_group_vals(df, group_cols)\n",
      "  File \"D:\\GitHub\\misc\\Anaconda\\envs\\pyjsviz\\lib\\site-packages\\dtale\\charts\\utils.py\", line 640, in find_group_vals\n",
      "    group_vals, _ = retrieve_chart_data(df, group_cols)\n",
      "  File \"D:\\GitHub\\misc\\Anaconda\\envs\\pyjsviz\\lib\\site-packages\\dtale\\charts\\utils.py\", line 237, in retrieve_chart_data\n",
      "    all_data = pd.concat(all_data, axis=1)\n",
      "  File \"D:\\GitHub\\misc\\Anaconda\\envs\\pyjsviz\\lib\\site-packages\\pandas\\core\\reshape\\concat.py\", line 271, in concat\n",
      "    op = _Concatenator(\n",
      "  File \"D:\\GitHub\\misc\\Anaconda\\envs\\pyjsviz\\lib\\site-packages\\pandas\\core\\reshape\\concat.py\", line 329, in __init__\n",
      "    raise ValueError(\"No objects to concatenate\")\n",
      "ValueError: No objects to concatenate\n"
     ]
    },
    {
     "name": "stderr",
     "output_type": "stream",
     "text": [
      "2020-08-11 12:59:08,485 - ERROR    - Exception on /charts/_dash-update-component [POST]\n",
      "Traceback (most recent call last):\n",
      "  File \"D:\\GitHub\\misc\\Anaconda\\envs\\pyjsviz\\lib\\site-packages\\flask\\app.py\", line 2447, in wsgi_app\n",
      "    response = self.full_dispatch_request()\n",
      "  File \"D:\\GitHub\\misc\\Anaconda\\envs\\pyjsviz\\lib\\site-packages\\flask\\app.py\", line 1952, in full_dispatch_request\n",
      "    rv = self.handle_user_exception(e)\n",
      "  File \"D:\\GitHub\\misc\\Anaconda\\envs\\pyjsviz\\lib\\site-packages\\flask\\app.py\", line 1821, in handle_user_exception\n",
      "    reraise(exc_type, exc_value, tb)\n",
      "  File \"D:\\GitHub\\misc\\Anaconda\\envs\\pyjsviz\\lib\\site-packages\\flask\\_compat.py\", line 39, in reraise\n",
      "    raise value\n",
      "  File \"D:\\GitHub\\misc\\Anaconda\\envs\\pyjsviz\\lib\\site-packages\\flask\\app.py\", line 1950, in full_dispatch_request\n",
      "    rv = self.dispatch_request()\n",
      "  File \"D:\\GitHub\\misc\\Anaconda\\envs\\pyjsviz\\lib\\site-packages\\flask\\app.py\", line 1936, in dispatch_request\n",
      "    return self.view_functions[rule.endpoint](**req.view_args)\n",
      "  File \"D:\\GitHub\\misc\\Anaconda\\envs\\pyjsviz\\lib\\site-packages\\dash\\dash.py\", line 1050, in dispatch\n",
      "    response.set_data(func(*args, outputs_list=outputs_list))\n",
      "  File \"D:\\GitHub\\misc\\Anaconda\\envs\\pyjsviz\\lib\\site-packages\\dash\\dash.py\", line 985, in add_context\n",
      "    output_value = func(*args, **kwargs)  # %% callback invoked %%\n",
      "  File \"D:\\GitHub\\misc\\Anaconda\\envs\\pyjsviz\\lib\\site-packages\\dtale\\dash_application\\views.py\", line 695, in group_values\n",
      "    group_vals = build_group_val_options(group_vals, group_cols)\n",
      "  File \"D:\\GitHub\\misc\\Anaconda\\envs\\pyjsviz\\lib\\site-packages\\dtale\\dash_application\\layout\\layout.py\", line 635, in build_group_val_options\n",
      "    group_vals = find_group_vals(df, group_cols)\n",
      "  File \"D:\\GitHub\\misc\\Anaconda\\envs\\pyjsviz\\lib\\site-packages\\dtale\\charts\\utils.py\", line 640, in find_group_vals\n",
      "    group_vals, _ = retrieve_chart_data(df, group_cols)\n",
      "  File \"D:\\GitHub\\misc\\Anaconda\\envs\\pyjsviz\\lib\\site-packages\\dtale\\charts\\utils.py\", line 237, in retrieve_chart_data\n",
      "    all_data = pd.concat(all_data, axis=1)\n",
      "  File \"D:\\GitHub\\misc\\Anaconda\\envs\\pyjsviz\\lib\\site-packages\\pandas\\core\\reshape\\concat.py\", line 271, in concat\n",
      "    op = _Concatenator(\n",
      "  File \"D:\\GitHub\\misc\\Anaconda\\envs\\pyjsviz\\lib\\site-packages\\pandas\\core\\reshape\\concat.py\", line 329, in __init__\n",
      "    raise ValueError(\"No objects to concatenate\")\n",
      "ValueError: No objects to concatenate\n",
      "2020-08-11 12:59:12,553 - INFO     - NumExpr defaulting to 4 threads.\n"
     ]
    },
    {
     "name": "stdout",
     "output_type": "stream",
     "text": [
      "Exception on /charts/_dash-update-component [POST]\n",
      "Traceback (most recent call last):\n",
      "  File \"D:\\GitHub\\misc\\Anaconda\\envs\\pyjsviz\\lib\\site-packages\\flask\\app.py\", line 2447, in wsgi_app\n",
      "    response = self.full_dispatch_request()\n",
      "  File \"D:\\GitHub\\misc\\Anaconda\\envs\\pyjsviz\\lib\\site-packages\\flask\\app.py\", line 1952, in full_dispatch_request\n",
      "    rv = self.handle_user_exception(e)\n",
      "  File \"D:\\GitHub\\misc\\Anaconda\\envs\\pyjsviz\\lib\\site-packages\\flask\\app.py\", line 1821, in handle_user_exception\n",
      "    reraise(exc_type, exc_value, tb)\n",
      "  File \"D:\\GitHub\\misc\\Anaconda\\envs\\pyjsviz\\lib\\site-packages\\flask\\_compat.py\", line 39, in reraise\n",
      "    raise value\n",
      "  File \"D:\\GitHub\\misc\\Anaconda\\envs\\pyjsviz\\lib\\site-packages\\flask\\app.py\", line 1950, in full_dispatch_request\n",
      "    rv = self.dispatch_request()\n",
      "  File \"D:\\GitHub\\misc\\Anaconda\\envs\\pyjsviz\\lib\\site-packages\\flask\\app.py\", line 1936, in dispatch_request\n",
      "    return self.view_functions[rule.endpoint](**req.view_args)\n",
      "  File \"D:\\GitHub\\misc\\Anaconda\\envs\\pyjsviz\\lib\\site-packages\\dash\\dash.py\", line 1050, in dispatch\n",
      "    response.set_data(func(*args, outputs_list=outputs_list))\n",
      "  File \"D:\\GitHub\\misc\\Anaconda\\envs\\pyjsviz\\lib\\site-packages\\dash\\dash.py\", line 985, in add_context\n",
      "    output_value = func(*args, **kwargs)  # %% callback invoked %%\n",
      "  File \"D:\\GitHub\\misc\\Anaconda\\envs\\pyjsviz\\lib\\site-packages\\dtale\\dash_application\\views.py\", line 695, in group_values\n",
      "    group_vals = build_group_val_options(group_vals, group_cols)\n",
      "  File \"D:\\GitHub\\misc\\Anaconda\\envs\\pyjsviz\\lib\\site-packages\\dtale\\dash_application\\layout\\layout.py\", line 635, in build_group_val_options\n",
      "    group_vals = find_group_vals(df, group_cols)\n",
      "  File \"D:\\GitHub\\misc\\Anaconda\\envs\\pyjsviz\\lib\\site-packages\\dtale\\charts\\utils.py\", line 640, in find_group_vals\n",
      "    group_vals, _ = retrieve_chart_data(df, group_cols)\n",
      "  File \"D:\\GitHub\\misc\\Anaconda\\envs\\pyjsviz\\lib\\site-packages\\dtale\\charts\\utils.py\", line 237, in retrieve_chart_data\n",
      "    all_data = pd.concat(all_data, axis=1)\n",
      "  File \"D:\\GitHub\\misc\\Anaconda\\envs\\pyjsviz\\lib\\site-packages\\pandas\\core\\reshape\\concat.py\", line 271, in concat\n",
      "    op = _Concatenator(\n",
      "  File \"D:\\GitHub\\misc\\Anaconda\\envs\\pyjsviz\\lib\\site-packages\\pandas\\core\\reshape\\concat.py\", line 329, in __init__\n",
      "    raise ValueError(\"No objects to concatenate\")\n",
      "ValueError: No objects to concatenate\n",
      "Exception on /charts/_dash-update-component [POST]\n",
      "Traceback (most recent call last):\n",
      "  File \"D:\\GitHub\\misc\\Anaconda\\envs\\pyjsviz\\lib\\site-packages\\flask\\app.py\", line 2447, in wsgi_app\n",
      "    response = self.full_dispatch_request()\n",
      "  File \"D:\\GitHub\\misc\\Anaconda\\envs\\pyjsviz\\lib\\site-packages\\flask\\app.py\", line 1952, in full_dispatch_request\n",
      "    rv = self.handle_user_exception(e)\n",
      "  File \"D:\\GitHub\\misc\\Anaconda\\envs\\pyjsviz\\lib\\site-packages\\flask\\app.py\", line 1821, in handle_user_exception\n",
      "    reraise(exc_type, exc_value, tb)\n",
      "  File \"D:\\GitHub\\misc\\Anaconda\\envs\\pyjsviz\\lib\\site-packages\\flask\\_compat.py\", line 39, in reraise\n",
      "    raise value\n",
      "  File \"D:\\GitHub\\misc\\Anaconda\\envs\\pyjsviz\\lib\\site-packages\\flask\\app.py\", line 1950, in full_dispatch_request\n",
      "    rv = self.dispatch_request()\n",
      "  File \"D:\\GitHub\\misc\\Anaconda\\envs\\pyjsviz\\lib\\site-packages\\flask\\app.py\", line 1936, in dispatch_request\n",
      "    return self.view_functions[rule.endpoint](**req.view_args)\n",
      "  File \"D:\\GitHub\\misc\\Anaconda\\envs\\pyjsviz\\lib\\site-packages\\dash\\dash.py\", line 1050, in dispatch\n",
      "    response.set_data(func(*args, outputs_list=outputs_list))\n",
      "  File \"D:\\GitHub\\misc\\Anaconda\\envs\\pyjsviz\\lib\\site-packages\\dash\\dash.py\", line 985, in add_context\n",
      "    output_value = func(*args, **kwargs)  # %% callback invoked %%\n",
      "  File \"D:\\GitHub\\misc\\Anaconda\\envs\\pyjsviz\\lib\\site-packages\\dtale\\dash_application\\views.py\", line 695, in group_values\n",
      "    group_vals = build_group_val_options(group_vals, group_cols)\n",
      "  File \"D:\\GitHub\\misc\\Anaconda\\envs\\pyjsviz\\lib\\site-packages\\dtale\\dash_application\\layout\\layout.py\", line 635, in build_group_val_options\n",
      "    group_vals = find_group_vals(df, group_cols)\n",
      "  File \"D:\\GitHub\\misc\\Anaconda\\envs\\pyjsviz\\lib\\site-packages\\dtale\\charts\\utils.py\", line 640, in find_group_vals\n",
      "    group_vals, _ = retrieve_chart_data(df, group_cols)\n",
      "  File \"D:\\GitHub\\misc\\Anaconda\\envs\\pyjsviz\\lib\\site-packages\\dtale\\charts\\utils.py\", line 237, in retrieve_chart_data\n",
      "    all_data = pd.concat(all_data, axis=1)\n",
      "  File \"D:\\GitHub\\misc\\Anaconda\\envs\\pyjsviz\\lib\\site-packages\\pandas\\core\\reshape\\concat.py\", line 271, in concat\n",
      "    op = _Concatenator(\n",
      "  File \"D:\\GitHub\\misc\\Anaconda\\envs\\pyjsviz\\lib\\site-packages\\pandas\\core\\reshape\\concat.py\", line 329, in __init__\n",
      "    raise ValueError(\"No objects to concatenate\")\n",
      "ValueError: No objects to concatenate\n"
     ]
    },
    {
     "name": "stderr",
     "output_type": "stream",
     "text": [
      "2020-08-11 12:59:17,292 - ERROR    - Exception on /charts/_dash-update-component [POST]\n",
      "Traceback (most recent call last):\n",
      "  File \"D:\\GitHub\\misc\\Anaconda\\envs\\pyjsviz\\lib\\site-packages\\flask\\app.py\", line 2447, in wsgi_app\n",
      "    response = self.full_dispatch_request()\n",
      "  File \"D:\\GitHub\\misc\\Anaconda\\envs\\pyjsviz\\lib\\site-packages\\flask\\app.py\", line 1952, in full_dispatch_request\n",
      "    rv = self.handle_user_exception(e)\n",
      "  File \"D:\\GitHub\\misc\\Anaconda\\envs\\pyjsviz\\lib\\site-packages\\flask\\app.py\", line 1821, in handle_user_exception\n",
      "    reraise(exc_type, exc_value, tb)\n",
      "  File \"D:\\GitHub\\misc\\Anaconda\\envs\\pyjsviz\\lib\\site-packages\\flask\\_compat.py\", line 39, in reraise\n",
      "    raise value\n",
      "  File \"D:\\GitHub\\misc\\Anaconda\\envs\\pyjsviz\\lib\\site-packages\\flask\\app.py\", line 1950, in full_dispatch_request\n",
      "    rv = self.dispatch_request()\n",
      "  File \"D:\\GitHub\\misc\\Anaconda\\envs\\pyjsviz\\lib\\site-packages\\flask\\app.py\", line 1936, in dispatch_request\n",
      "    return self.view_functions[rule.endpoint](**req.view_args)\n",
      "  File \"D:\\GitHub\\misc\\Anaconda\\envs\\pyjsviz\\lib\\site-packages\\dash\\dash.py\", line 1050, in dispatch\n",
      "    response.set_data(func(*args, outputs_list=outputs_list))\n",
      "  File \"D:\\GitHub\\misc\\Anaconda\\envs\\pyjsviz\\lib\\site-packages\\dash\\dash.py\", line 985, in add_context\n",
      "    output_value = func(*args, **kwargs)  # %% callback invoked %%\n",
      "  File \"D:\\GitHub\\misc\\Anaconda\\envs\\pyjsviz\\lib\\site-packages\\dtale\\dash_application\\views.py\", line 695, in group_values\n",
      "    group_vals = build_group_val_options(group_vals, group_cols)\n",
      "  File \"D:\\GitHub\\misc\\Anaconda\\envs\\pyjsviz\\lib\\site-packages\\dtale\\dash_application\\layout\\layout.py\", line 635, in build_group_val_options\n",
      "    group_vals = find_group_vals(df, group_cols)\n",
      "  File \"D:\\GitHub\\misc\\Anaconda\\envs\\pyjsviz\\lib\\site-packages\\dtale\\charts\\utils.py\", line 640, in find_group_vals\n",
      "    group_vals, _ = retrieve_chart_data(df, group_cols)\n",
      "  File \"D:\\GitHub\\misc\\Anaconda\\envs\\pyjsviz\\lib\\site-packages\\dtale\\charts\\utils.py\", line 237, in retrieve_chart_data\n",
      "    all_data = pd.concat(all_data, axis=1)\n",
      "  File \"D:\\GitHub\\misc\\Anaconda\\envs\\pyjsviz\\lib\\site-packages\\pandas\\core\\reshape\\concat.py\", line 271, in concat\n",
      "    op = _Concatenator(\n",
      "  File \"D:\\GitHub\\misc\\Anaconda\\envs\\pyjsviz\\lib\\site-packages\\pandas\\core\\reshape\\concat.py\", line 329, in __init__\n",
      "    raise ValueError(\"No objects to concatenate\")\n",
      "ValueError: No objects to concatenate\n"
     ]
    },
    {
     "name": "stdout",
     "output_type": "stream",
     "text": [
      "Executing shutdown...\n",
      "Executing shutdown...\n"
     ]
    },
    {
     "name": "stderr",
     "output_type": "stream",
     "text": [
      "2020-08-11 13:02:21,699 - INFO     - Executing shutdown...\n"
     ]
    }
   ],
   "source": [
    "dt.show(dataset)"
   ]
  },
  {
   "cell_type": "markdown",
   "metadata": {},
   "source": [
    "# Changing TIME column to datetime"
   ]
  },
  {
   "cell_type": "code",
   "execution_count": 8,
   "metadata": {},
   "outputs": [],
   "source": [
    "dataset.TIME = pd.to_datetime(dataset.TIME, format='%YM%m')"
   ]
  },
  {
   "cell_type": "markdown",
   "metadata": {},
   "source": [
    "# Changing MATURITY column to just numbers"
   ]
  },
  {
   "cell_type": "code",
   "execution_count": 12,
   "metadata": {},
   "outputs": [],
   "source": [
    "import re"
   ]
  },
  {
   "cell_type": "code",
   "execution_count": 19,
   "metadata": {},
   "outputs": [],
   "source": [
    "regex = re.compile('[a-zA-Z:]')"
   ]
  },
  {
   "cell_type": "code",
   "execution_count": 20,
   "metadata": {},
   "outputs": [],
   "source": [
    "dataset.MATURITY = dataset.MATURITY.replace(regex, '', regex=True)"
   ]
  },
  {
   "cell_type": "markdown",
   "metadata": {},
   "source": [
    "# Changing MATURITY column type from object to int64"
   ]
  },
  {
   "cell_type": "code",
   "execution_count": 23,
   "metadata": {},
   "outputs": [],
   "source": [
    "dataset.MATURITY = dataset.MATURITY.astype('int64')"
   ]
  },
  {
   "cell_type": "code",
   "execution_count": 25,
   "metadata": {},
   "outputs": [
    {
     "name": "stdout",
     "output_type": "stream",
     "text": [
      "<class 'pandas.core.frame.DataFrame'>\n",
      "RangeIndex: 1719 entries, 0 to 1718\n",
      "Data columns (total 7 columns):\n",
      " #   Column              Non-Null Count  Dtype         \n",
      "---  ------              --------------  -----         \n",
      " 0   TIME                1719 non-null   datetime64[ns]\n",
      " 1   MATURITY            1719 non-null   int64         \n",
      " 2   YLD_CURV            1719 non-null   object        \n",
      " 3   GEO                 1719 non-null   object        \n",
      " 4   BONDS               1719 non-null   object        \n",
      " 5   Value               1719 non-null   float64       \n",
      " 6   Flag and Footnotes  0 non-null      float64       \n",
      "dtypes: datetime64[ns](1), float64(2), int64(1), object(3)\n",
      "memory usage: 94.1+ KB\n"
     ]
    }
   ],
   "source": [
    "dataset.info()"
   ]
  },
  {
   "cell_type": "markdown",
   "metadata": {},
   "source": [
    "# Deleting FOOTNOTES column"
   ]
  },
  {
   "cell_type": "code",
   "execution_count": 29,
   "metadata": {},
   "outputs": [],
   "source": [
    "dataset = dataset.drop(columns='Flag and Footnotes')"
   ]
  },
  {
   "cell_type": "markdown",
   "metadata": {},
   "source": [
    "# Exporting data as JSON"
   ]
  },
  {
   "cell_type": "code",
   "execution_count": 34,
   "metadata": {},
   "outputs": [],
   "source": [
    "dataset[['TIME', 'MATURITY', 'Value']].to_json('data.json', orient='records', date_format='epoch')"
   ]
  },
  {
   "cell_type": "markdown",
   "metadata": {},
   "source": [
    "---"
   ]
  },
  {
   "cell_type": "code",
   "execution_count": 10,
   "metadata": {},
   "outputs": [],
   "source": [
    "dataset = pd.read_csv('dataDaily.csv')"
   ]
  },
  {
   "cell_type": "code",
   "execution_count": 11,
   "metadata": {},
   "outputs": [],
   "source": [
    "dataset.TIME = pd.to_datetime(dataset.TIME, format='%YM%mD%d')"
   ]
  },
  {
   "cell_type": "code",
   "execution_count": 12,
   "metadata": {},
   "outputs": [],
   "source": [
    "import re"
   ]
  },
  {
   "cell_type": "code",
   "execution_count": 13,
   "metadata": {},
   "outputs": [],
   "source": [
    "regex = re.compile('[a-zA-z:]')"
   ]
  },
  {
   "cell_type": "code",
   "execution_count": 14,
   "metadata": {},
   "outputs": [],
   "source": [
    "dataset.MATURITY = dataset.MATURITY.replace(regex, '', regex=True)"
   ]
  },
  {
   "cell_type": "code",
   "execution_count": 15,
   "metadata": {},
   "outputs": [],
   "source": [
    "dataset = dataset.drop(columns='Flag and Footnotes')"
   ]
  },
  {
   "cell_type": "code",
   "execution_count": 16,
   "metadata": {},
   "outputs": [],
   "source": [
    "dataset.MATURITY = dataset.MATURITY.astype('int64')"
   ]
  },
  {
   "cell_type": "code",
   "execution_count": 17,
   "metadata": {},
   "outputs": [],
   "source": [
    "dataset[['TIME', 'MATURITY', 'Value']].to_json('dataDaily.json', orient='records', date_format='epoch')"
   ]
  },
  {
   "cell_type": "markdown",
   "metadata": {},
   "source": [
    "---"
   ]
  },
  {
   "cell_type": "code",
   "execution_count": 30,
   "metadata": {},
   "outputs": [],
   "source": [
    "import calendar"
   ]
  },
  {
   "cell_type": "code",
   "execution_count": 81,
   "metadata": {},
   "outputs": [],
   "source": [
    "currDate = None\n",
    "prevDate = None\n",
    "i = 0\n",
    "\n",
    "for y in range(2004, 2021):\n",
    "    if y == 2004:\n",
    "        ran = range(9, 13)\n",
    "    elif y == 2020:\n",
    "        ran = range(1, 9)\n",
    "    else:\n",
    "        ran = range(1, 13)\n",
    "    \n",
    "    for m in ran:\n",
    "        lengthOfMonth = str(calendar.monthrange(y, m)[1])\n",
    "        year = str(y)\n",
    "        month = str(m) if m >= 10 else '0' + str(m)\n",
    "        currDate = year + '-' + month + '-' + lengthOfMonth\n",
    "        \n",
    "        if (y == 2004 and m == 9):\n",
    "            dataset[['TIME', 'MATURITY', 'Value']][(dataset.TIME <= currDate)].to_json('dataDailyGroupedByMonths/' + str(i) + '.json', orient='records', date_format='epoch')\n",
    "        else:\n",
    "            dataset[['TIME', 'MATURITY', 'Value']][(dataset.TIME <= currDate) & (dataset.TIME > prevDate)].to_json('dataDailyGroupedByMonths/' +str(i) + '.json', orient='records', date_format='epoch')\n",
    "        \n",
    "        prevDate = currDate\n",
    "        i += 1"
   ]
  },
  {
   "cell_type": "code",
   "execution_count": null,
   "metadata": {},
   "outputs": [],
   "source": []
  }
 ],
 "metadata": {
  "kernelspec": {
   "display_name": "Python 3.8.3 64-bit ('pyjsviz': conda)",
   "language": "python",
   "name": "python38364bitpyjsvizconda745acef9f02b447482f77d90c121d992"
  },
  "language_info": {
   "codemirror_mode": {
    "name": "ipython",
    "version": 3
   },
   "file_extension": ".py",
   "mimetype": "text/x-python",
   "name": "python",
   "nbconvert_exporter": "python",
   "pygments_lexer": "ipython3",
   "version": "3.8.3"
  }
 },
 "nbformat": 4,
 "nbformat_minor": 4
}
